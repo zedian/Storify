{
 "cells": [
  {
   "cell_type": "code",
   "execution_count": 1,
   "metadata": {},
   "outputs": [],
   "source": [
    "import requests\n",
    "import base64\n",
    "import spotipy"
   ]
  },
  {
   "cell_type": "code",
   "execution_count": 4,
   "metadata": {},
   "outputs": [],
   "source": [
    "URL = \"https://api.spotify.com/\"\n",
    "auth = \"https://accounts.spotify.com/api/token\"\n",
    "client_id = \"13186e9c43c54bd9b02876922e205da6\"\n",
    "client_secret = \"ad49eaa89c234431bb3a0b677d6b862c\"\n",
    "response_type = \"token\"\n",
    "redirect_url = \"https://localhost\"\n",
    "key = 'f0064908730c453cbed016cfa70e8c01'\n",
    "endpoint = 'westus.api.cognitive.microsoft.com'\n",
    "appId = '6646e66e-73b9-4fa3-a0cd-1a063818e3e7'\n",
    "utterance = \"helloworld\"\n",
    "headers = {}\n",
    "params = {\n",
    "    'query': utterance,\n",
    "    'timezoneOffset': '0',\n",
    "    'verbose': 'true',\n",
    "    'show-all-intents': 'true',\n",
    "    'spellCheck': 'false',\n",
    "    'staging': 'false',\n",
    "    'subscription-key': key\n",
    "}\n",
    "r = requests.get(f'https://{endpoint}/luis/prediction/v3.0/apps/{appId}/slots/production/predict',headers=headers, params=params)"
   ]
  },
  {
   "cell_type": "code",
   "execution_count": 6,
   "metadata": {},
   "outputs": [
    {
     "data": {
      "text/plain": [
       "{'query': 'helloworld',\n",
       " 'prediction': {'topIntent': 'None',\n",
       "  'intents': {'None': {'score': 0.8268304},\n",
       "   'indie': {'score': 0.0417891629},\n",
       "   'ambient': {'score': 0.0154034412},\n",
       "   'emo': {'score': 0.0125750452},\n",
       "   'rock': {'score': 0.00342573319},\n",
       "   'classical': {'score': 0.00138378283},\n",
       "   'pop': {'score': 0.0009811928}},\n",
       "  'entities': {}}}"
      ]
     },
     "execution_count": 6,
     "metadata": {},
     "output_type": "execute_result"
    }
   ],
   "source": [
    "r.json()"
   ]
  },
  {
   "cell_type": "code",
   "execution_count": null,
   "metadata": {},
   "outputs": [],
   "source": []
  }
 ],
 "metadata": {
  "kernelspec": {
   "display_name": "Python 3",
   "language": "python",
   "name": "python3"
  },
  "language_info": {
   "codemirror_mode": {
    "name": "ipython",
    "version": 3
   },
   "file_extension": ".py",
   "mimetype": "text/x-python",
   "name": "python",
   "nbconvert_exporter": "python",
   "pygments_lexer": "ipython3",
   "version": "3.7.4"
  }
 },
 "nbformat": 4,
 "nbformat_minor": 2
}
